{
 "cells": [
  {
   "cell_type": "markdown",
   "metadata": {
    "id": "fMeMDTikgwEY"
   },
   "source": [
    "**[SF-DST] Car Price prediction**\n",
    "\n",
    "**Прогнозирование стоимости автомобиля по характеристикам**\n",
    "\n",
    "Команда: 4BI\n",
    "\n",
    "Члены команды: Икен Шынгысхан, Нурсейт Бекзат, Амангелди Ильяс"
   ]
  },
  {
   "cell_type": "markdown",
   "metadata": {
    "id": "fyxuUFt7hNDX"
   },
   "source": [
    "1. Импорт всех данных полученных парсером."
   ]
  },
  {
   "cell_type": "code",
   "execution_count": 1,
   "metadata": {
    "id": "7QFe4eFM6VSH"
   },
   "outputs": [],
   "source": [
    "import pandas as pd"
   ]
  },
  {
   "cell_type": "code",
   "execution_count": 2,
   "metadata": {
    "id": "U2xV6U3a6VSO"
   },
   "outputs": [],
   "source": [
    "honda = pd.read_csv('honda.csv')"
   ]
  },
  {
   "cell_type": "code",
   "execution_count": 3,
   "metadata": {
    "id": "kfEVMbt56VSO"
   },
   "outputs": [],
   "source": [
    "honda1 = pd.read_csv('honda_1.csv')"
   ]
  },
  {
   "cell_type": "code",
   "execution_count": 4,
   "metadata": {
    "id": "l80P8DNz6VSP"
   },
   "outputs": [],
   "source": [
    "toyota = pd.read_csv('toyota.csv')"
   ]
  },
  {
   "cell_type": "code",
   "execution_count": 5,
   "metadata": {
    "id": "C4yhkIF16VSP"
   },
   "outputs": [],
   "source": [
    "toyota1 = pd.read_csv('toyota_1.csv')"
   ]
  },
  {
   "cell_type": "code",
   "execution_count": 6,
   "metadata": {
    "id": "hh5sho2g6VSP"
   },
   "outputs": [],
   "source": [
    "audi = pd.read_csv('audi.csv')"
   ]
  },
  {
   "cell_type": "code",
   "execution_count": 7,
   "metadata": {
    "id": "YwAcECyC6VSQ"
   },
   "outputs": [],
   "source": [
    "audi1 = pd.read_csv('audi_1.csv')"
   ]
  },
  {
   "cell_type": "code",
   "execution_count": 8,
   "metadata": {
    "id": "OXhbwXW36VSQ"
   },
   "outputs": [],
   "source": [
    "mits = pd.read_csv('mitsubishi.csv')"
   ]
  },
  {
   "cell_type": "code",
   "execution_count": 9,
   "metadata": {
    "id": "2F3L46cS6VSQ"
   },
   "outputs": [],
   "source": [
    "mits1 = pd.read_csv('mitsubishi_1.csv')"
   ]
  },
  {
   "cell_type": "code",
   "execution_count": 10,
   "metadata": {
    "id": "0G4eslCg6VSQ"
   },
   "outputs": [],
   "source": [
    "bmw = pd.read_csv('bmw.csv')"
   ]
  },
  {
   "cell_type": "code",
   "execution_count": 11,
   "metadata": {
    "id": "N7yqMg5b6VSQ"
   },
   "outputs": [],
   "source": [
    "bmw1 = pd.read_csv('bmw_1.csv')"
   ]
  },
  {
   "cell_type": "code",
   "execution_count": 12,
   "metadata": {
    "id": "TCCvNSqB6VSR"
   },
   "outputs": [],
   "source": [
    "lexus = pd.read_csv('Lexus.csv')"
   ]
  },
  {
   "cell_type": "code",
   "execution_count": 13,
   "metadata": {
    "id": "POyixwvb6VSR"
   },
   "outputs": [],
   "source": [
    "lexus1 = pd.read_csv('Lexus_1.csv')"
   ]
  },
  {
   "cell_type": "code",
   "execution_count": 14,
   "metadata": {
    "id": "Q6fVdbcD6VSR"
   },
   "outputs": [],
   "source": [
    "nissan = pd.read_csv('nissan.csv')"
   ]
  },
  {
   "cell_type": "code",
   "execution_count": 15,
   "metadata": {
    "id": "PBs5Xt8U6VSR"
   },
   "outputs": [],
   "source": [
    "nissan1 = pd.read_csv('nissan_1.csv')"
   ]
  },
  {
   "cell_type": "code",
   "execution_count": 16,
   "metadata": {
    "id": "33QSV06O6VSR"
   },
   "outputs": [],
   "source": [
    "skoda = pd.read_csv('skoda.csv')"
   ]
  },
  {
   "cell_type": "code",
   "execution_count": 17,
   "metadata": {
    "id": "NNfqVptT6VSR"
   },
   "outputs": [],
   "source": [
    "skoda1 = pd.read_csv('skoda_1.csv')"
   ]
  },
  {
   "cell_type": "code",
   "execution_count": 18,
   "metadata": {
    "id": "oD7SY4wS6VSS"
   },
   "outputs": [],
   "source": [
    "volk = pd.read_csv('volkswagen.csv')"
   ]
  },
  {
   "cell_type": "code",
   "execution_count": 19,
   "metadata": {
    "id": "hyjS6yI16VSS"
   },
   "outputs": [],
   "source": [
    "volk1 = pd.read_csv('volkswagen_1.csv')"
   ]
  },
  {
   "cell_type": "code",
   "execution_count": 20,
   "metadata": {
    "id": "eLhxTJqJ6VSS"
   },
   "outputs": [],
   "source": [
    "volvo = pd.read_csv('volvo.csv')"
   ]
  },
  {
   "cell_type": "code",
   "execution_count": 21,
   "metadata": {
    "id": "eb7cY-KL6VSS"
   },
   "outputs": [],
   "source": [
    "volvo1 = pd.read_csv('volvo_1.csv')"
   ]
  },
  {
   "cell_type": "code",
   "execution_count": 22,
   "metadata": {
    "id": "DcQaj9mj6VSS"
   },
   "outputs": [],
   "source": [
    "merc = pd.read_csv('mercedes.csv')"
   ]
  },
  {
   "cell_type": "code",
   "execution_count": 23,
   "metadata": {
    "id": "5tsEM-uG6VST"
   },
   "outputs": [],
   "source": [
    "merc1 = pd.read_csv('mercedes_1.csv')"
   ]
  },
  {
   "cell_type": "code",
   "execution_count": 24,
   "metadata": {
    "id": "pBZQFBRA6VST"
   },
   "outputs": [],
   "source": [
    "inf = pd.read_csv('Infiniti.csv')"
   ]
  },
  {
   "cell_type": "code",
   "execution_count": 25,
   "metadata": {
    "id": "I_SCPPbR6VST"
   },
   "outputs": [],
   "source": [
    "inf1 = pd.read_csv('Infiniti_1.csv')"
   ]
  },
  {
   "cell_type": "markdown",
   "metadata": {
    "id": "x-Sbopn_hpNv"
   },
   "source": [
    "Дальше объеденяем все машины в один датафрейм."
   ]
  },
  {
   "cell_type": "code",
   "execution_count": 26,
   "metadata": {
    "id": "fvUswz-16VST"
   },
   "outputs": [],
   "source": [
    "combined = pd.concat([honda, honda1, toyota, toyota1, audi, audi1, mits, mits1, bmw, bmw1, lexus, lexus1, nissan, nissan1, skoda, skoda1, volk, volk1, volvo, volvo1, merc, merc1, inf, inf1], ignore_index=True)"
   ]
  },
  {
   "cell_type": "code",
   "execution_count": 27,
   "metadata": {
    "id": "CnbNvTGz6VSU"
   },
   "outputs": [],
   "source": [
    "combined = combined.drop_duplicates()  # уберам дубликаты"
   ]
  },
  {
   "cell_type": "code",
   "execution_count": 28,
   "metadata": {
    "colab": {
     "base_uri": "https://localhost:8080/"
    },
    "id": "uXIaTeV76VSU",
    "outputId": "3cfe08dd-1fac-4284-cbe5-76b8d12fbdff"
   },
   "outputs": [
    {
     "data": {
      "text/plain": [
       "32628"
      ]
     },
     "execution_count": 28,
     "metadata": {},
     "output_type": "execute_result"
    }
   ],
   "source": [
    "len(combined) # количество машин в датасете"
   ]
  },
  {
   "cell_type": "code",
   "execution_count": 31,
   "metadata": {},
   "outputs": [
    {
     "name": "stdout",
     "output_type": "stream",
     "text": [
      "<class 'pandas.core.frame.DataFrame'>\n",
      "Int64Index: 32628 entries, 0 to 34697\n",
      "Data columns (total 24 columns):\n",
      " #   Column       Non-Null Count  Dtype \n",
      "---  ------       --------------  ----- \n",
      " 0   Название     32628 non-null  object\n",
      " 1   Цена         32628 non-null  object\n",
      " 2   год выпуска  32628 non-null  int64 \n",
      " 3   Пробег       32628 non-null  object\n",
      " 4   Кузов        32627 non-null  object\n",
      " 5   Цвет         32628 non-null  object\n",
      " 6   Двигатель    32627 non-null  object\n",
      " 7   Налог        31867 non-null  object\n",
      " 8   Коробка      32626 non-null  object\n",
      " 9   Привод       32626 non-null  object\n",
      " 10  Руль         32628 non-null  object\n",
      " 11  Состояние    32628 non-null  object\n",
      " 12  Владельцы    32624 non-null  object\n",
      " 13  ПТС          32628 non-null  object\n",
      " 14  Владение     7550 non-null   object\n",
      " 15  Таможня      32628 non-null  object\n",
      " 16  VIN          29816 non-null  object\n",
      " 17  Госномер     17267 non-null  object\n",
      " 18  url          32628 non-null  object\n",
      " 19  brand        32628 non-null  object\n",
      " 20  Обмен        14430 non-null  object\n",
      " 21  Гарантия     2771 non-null   object\n",
      " 22  Кузов №      1756 non-null   object\n",
      " 23  Запас хода   51 non-null     object\n",
      "dtypes: int64(1), object(23)\n",
      "memory usage: 6.2+ MB\n"
     ]
    }
   ],
   "source": [
    "combined.info()"
   ]
  },
  {
   "cell_type": "code",
   "execution_count": 34,
   "metadata": {},
   "outputs": [
    {
     "data": {
      "text/plain": [
       "Название                                            Honda Civic \n",
       "Цена                                                     120000₽\n",
       "год выпуска                                                 1989\n",
       "Пробег                                                400 000 км\n",
       "Кузов                                                        NaN\n",
       "Цвет                                                 серебристый\n",
       "Двигатель                                                    NaN\n",
       "Налог                                                        NaN\n",
       "Коробка                                                      NaN\n",
       "Привод                                                       NaN\n",
       "Руль                                                       Левый\n",
       "Состояние                                     Не требует ремонта\n",
       "Владельцы                                            3 или более\n",
       "ПТС                                                     Оригинал\n",
       "Владение                                                     NaN\n",
       "Таможня                                               Растаможен\n",
       "VIN                                            JHM**************\n",
       "Госномер                                               ******|21\n",
       "url            https://auto.ru/cars/used/sale/honda/civic/109...\n",
       "brand                                                      Honda\n",
       "Обмен                                                        NaN\n",
       "Гарантия                                                     NaN\n",
       "Кузов №                                                      NaN\n",
       "Запас хода                                                   NaN\n",
       "Name: 2560, dtype: object"
      ]
     },
     "execution_count": 34,
     "metadata": {},
     "output_type": "execute_result"
    }
   ],
   "source": [
    "combined.iloc[2412] # Так как нам мало известно об этой машине, мы решили её удалить"
   ]
  },
  {
   "cell_type": "code",
   "execution_count": 35,
   "metadata": {
    "id": "Sgxz5tSb6VSV"
   },
   "outputs": [],
   "source": [
    "combined.drop(combined.index[2412], inplace=True)"
   ]
  },
  {
   "cell_type": "code",
   "execution_count": 38,
   "metadata": {
    "id": "fRrSTM7F6VSV"
   },
   "outputs": [],
   "source": [
    "combined.to_csv('asd.csv', index=False)  # Checkpoint (Все машины объедененные в один датасет)"
   ]
  },
  {
   "cell_type": "code",
   "execution_count": 39,
   "metadata": {
    "id": "j7v8g2HM6VSV"
   },
   "outputs": [],
   "source": [
    "c = pd.read_csv('asd.csv')"
   ]
  },
  {
   "cell_type": "code",
   "execution_count": 40,
   "metadata": {
    "id": "-JSZMX696VSV",
    "outputId": "a6797064-b29b-468a-d161-7582267c2168"
   },
   "outputs": [
    {
     "data": {
      "text/plain": [
       "'2.2 л / 200\\xa0л.с. / Бензин'"
      ]
     },
     "execution_count": 40,
     "metadata": {},
     "output_type": "execute_result"
    }
   ],
   "source": [
    "c['Двигатель'][2412]"
   ]
  },
  {
   "cell_type": "code",
   "execution_count": 41,
   "metadata": {
    "id": "EzkH-xhI6VSV"
   },
   "outputs": [],
   "source": [
    "new_arr = [i for i in range(0, 32627)]"
   ]
  },
  {
   "cell_type": "code",
   "execution_count": 43,
   "metadata": {
    "id": "nBFMDCvP6VSV"
   },
   "outputs": [],
   "source": [
    "combined = combined.reindex(new_arr) # Нужно переиндексировать датафрейм после удаление строки 2412"
   ]
  },
  {
   "cell_type": "code",
   "execution_count": 44,
   "metadata": {
    "id": "YsQSOin26VSW",
    "outputId": "9a29f937-da8c-4f10-9e99-cfcc650f05dc"
   },
   "outputs": [
    {
     "data": {
      "text/plain": [
       "1.6 л / 110 л.с. / Бензин                                1053\n",
       "2.0 л / 150 л.с. / Бензин                                 809\n",
       "3.0 л / 249 л.с. / Дизель                                 734\n",
       "1.4 л / 150 л.с. / Бензин                                 623\n",
       "1.6 л / 105 л.с. / Бензин                                 597\n",
       "                                                         ... \n",
       "2.0 л / 240 л.с. / Дизель                                   1\n",
       "4.2 л / 279 л.с. / Бензин                                   1\n",
       "2.0 л / 165 л.с. / Бензин, газобаллонное оборудование       1\n",
       "2.4 л / 194 л.с. / Бензин, газобаллонное оборудование       1\n",
       "4.7 л / 275 л.с. / Бензин, газобаллонное оборудование       1\n",
       "Name: Двигатель, Length: 1341, dtype: int64"
      ]
     },
     "execution_count": 44,
     "metadata": {},
     "output_type": "execute_result"
    }
   ],
   "source": [
    "c['Двигатель'].value_counts()"
   ]
  },
  {
   "cell_type": "code",
   "execution_count": 45,
   "metadata": {
    "id": "pG53E7Cm6VSW",
    "outputId": "7a36990e-a76a-49d2-b098-325ca02bd67e"
   },
   "outputs": [
    {
     "name": "stdout",
     "output_type": "stream",
     "text": [
      "[', газобаллонное оборудование']\n"
     ]
    }
   ],
   "source": [
    "for i in c['Двигатель'].apply(lambda x: x.split(' / ', 2)): \n",
    "    if len(i) < 3:\n",
    "        print(i)"
   ]
  },
  {
   "cell_type": "code",
   "execution_count": 47,
   "metadata": {
    "id": "2WWjKvAz6VSW",
    "outputId": "cfcc0e3c-dd88-4d5f-cdee-fd5f5d253a66"
   },
   "outputs": [
    {
     "data": {
      "text/html": [
       "<div>\n",
       "<style scoped>\n",
       "    .dataframe tbody tr th:only-of-type {\n",
       "        vertical-align: middle;\n",
       "    }\n",
       "\n",
       "    .dataframe tbody tr th {\n",
       "        vertical-align: top;\n",
       "    }\n",
       "\n",
       "    .dataframe thead th {\n",
       "        text-align: right;\n",
       "    }\n",
       "</style>\n",
       "<table border=\"1\" class=\"dataframe\">\n",
       "  <thead>\n",
       "    <tr style=\"text-align: right;\">\n",
       "      <th></th>\n",
       "      <th>Название</th>\n",
       "      <th>Цена</th>\n",
       "      <th>год выпуска</th>\n",
       "      <th>Пробег</th>\n",
       "      <th>Кузов</th>\n",
       "      <th>Цвет</th>\n",
       "      <th>Двигатель</th>\n",
       "      <th>Налог</th>\n",
       "      <th>Коробка</th>\n",
       "      <th>Привод</th>\n",
       "      <th>...</th>\n",
       "      <th>Владение</th>\n",
       "      <th>Таможня</th>\n",
       "      <th>VIN</th>\n",
       "      <th>Госномер</th>\n",
       "      <th>url</th>\n",
       "      <th>brand</th>\n",
       "      <th>Обмен</th>\n",
       "      <th>Гарантия</th>\n",
       "      <th>Кузов №</th>\n",
       "      <th>Запас хода</th>\n",
       "    </tr>\n",
       "  </thead>\n",
       "  <tbody>\n",
       "    <tr>\n",
       "      <th>898</th>\n",
       "      <td>Honda Civic VII Рестайлинг</td>\n",
       "      <td>225000₽</td>\n",
       "      <td>2003</td>\n",
       "      <td>320 000 км</td>\n",
       "      <td>седан</td>\n",
       "      <td>бежевый</td>\n",
       "      <td>, газобаллонное оборудование</td>\n",
       "      <td>NaN</td>\n",
       "      <td>NaN</td>\n",
       "      <td>NaN</td>\n",
       "      <td>...</td>\n",
       "      <td>NaN</td>\n",
       "      <td>Растаможен</td>\n",
       "      <td>JHM**************</td>\n",
       "      <td>NaN</td>\n",
       "      <td>https://auto.ru/cars/used/sale/honda/civic/105...</td>\n",
       "      <td>Honda</td>\n",
       "      <td>Рассмотрю варианты</td>\n",
       "      <td>NaN</td>\n",
       "      <td>NaN</td>\n",
       "      <td>NaN</td>\n",
       "    </tr>\n",
       "  </tbody>\n",
       "</table>\n",
       "<p>1 rows × 24 columns</p>\n",
       "</div>"
      ],
      "text/plain": [
       "                       Название     Цена  год выпуска      Пробег  Кузов  \\\n",
       "898  Honda Civic VII Рестайлинг  225000₽         2003  320 000 км  седан   \n",
       "\n",
       "        Цвет                     Двигатель Налог Коробка Привод  ... Владение  \\\n",
       "898  бежевый  , газобаллонное оборудование   NaN     NaN    NaN  ...      NaN   \n",
       "\n",
       "        Таможня                VIN Госномер  \\\n",
       "898  Растаможен  JHM**************      NaN   \n",
       "\n",
       "                                                   url  brand  \\\n",
       "898  https://auto.ru/cars/used/sale/honda/civic/105...  Honda   \n",
       "\n",
       "                  Обмен Гарантия Кузов № Запас хода  \n",
       "898  Рассмотрю варианты      NaN     NaN        NaN  \n",
       "\n",
       "[1 rows x 24 columns]"
      ]
     },
     "execution_count": 47,
     "metadata": {},
     "output_type": "execute_result"
    }
   ],
   "source": [
    "c[c['Двигатель'] == ', газобаллонное оборудование'] # У машины с индексом 898 проблемы с описанием двигателя и нет некоторых данных"
   ]
  },
  {
   "cell_type": "code",
   "execution_count": 48,
   "metadata": {
    "id": "kmWLCCuC6VSZ"
   },
   "outputs": [],
   "source": [
    "c.drop(combined.index[898], inplace=True) # Её мы тоже удаляем"
   ]
  },
  {
   "cell_type": "code",
   "execution_count": 51,
   "metadata": {
    "id": "u9apbUCh6VSZ"
   },
   "outputs": [],
   "source": [
    "c.to_csv('asd.csv', index=False) # Ещё один чекпоинт"
   ]
  },
  {
   "cell_type": "code",
   "execution_count": 75,
   "metadata": {
    "id": "u1awkBFL6VSa"
   },
   "outputs": [],
   "source": [
    "c = pd.read_csv('asd.csv')"
   ]
  },
  {
   "cell_type": "markdown",
   "metadata": {},
   "source": [
    "Нужно поделить столбец \"Двигатель\" на такие же столбцы как в test.csv"
   ]
  },
  {
   "cell_type": "code",
   "execution_count": 76,
   "metadata": {
    "id": "3SqNb_0l6VSa"
   },
   "outputs": [],
   "source": [
    "c.insert(loc = 7, \n",
    "          column = 'engineDisplacement', \n",
    "          value = c['Двигатель'].apply(lambda x: x.split(' / ', 1)[0]))"
   ]
  },
  {
   "cell_type": "code",
   "execution_count": 77,
   "metadata": {
    "id": "PmJ4eN486VSa"
   },
   "outputs": [],
   "source": [
    "c.insert(loc = 8, \n",
    "          column = 'enginePower', \n",
    "          value = c['Двигатель'].apply(lambda x: x.split(' / ', 2)[1]))"
   ]
  },
  {
   "cell_type": "code",
   "execution_count": 78,
   "metadata": {
    "id": "Gw9U_7wr6VSa"
   },
   "outputs": [],
   "source": [
    "c.insert(loc = 9, \n",
    "          column = 'fuelType', \n",
    "          value = c['Двигатель'].apply(lambda x: x.split(' / ', 3)[2]))"
   ]
  },
  {
   "cell_type": "markdown",
   "metadata": {},
   "source": [
    "#### Далее начинается предобработка"
   ]
  },
  {
   "cell_type": "code",
   "execution_count": 79,
   "metadata": {},
   "outputs": [
    {
     "data": {
      "text/plain": [
       "0      1099000₽\n",
       "1      1290000₽\n",
       "2       620000₽\n",
       "3    от 372240₽\n",
       "4       725000₽\n",
       "Name: Цена, dtype: object"
      ]
     },
     "execution_count": 79,
     "metadata": {},
     "output_type": "execute_result"
    }
   ],
   "source": [
    "c['Цена'].head() # Нужно убрать валюту и перевести в int"
   ]
  },
  {
   "cell_type": "code",
   "execution_count": 80,
   "metadata": {
    "id": "QOmr4T_P6VSa"
   },
   "outputs": [],
   "source": [
    "c['Цена'] = c['Цена'].apply(lambda x: x[:-1]) "
   ]
  },
  {
   "cell_type": "code",
   "execution_count": 81,
   "metadata": {
    "id": "5NFpe-SX6VSb"
   },
   "outputs": [],
   "source": [
    "c['Цена'] = c['Цена'].apply(lambda x: x[3:] if ('от' in x) else x)"
   ]
  },
  {
   "cell_type": "code",
   "execution_count": 82,
   "metadata": {
    "id": "f-mgVt5u6VSb"
   },
   "outputs": [],
   "source": [
    "c['Цена'] = c['Цена'].apply(lambda x: int(x))"
   ]
  },
  {
   "cell_type": "code",
   "execution_count": 83,
   "metadata": {
    "id": "w_66_TNm6VSb"
   },
   "outputs": [],
   "source": [
    "import re"
   ]
  },
  {
   "cell_type": "code",
   "execution_count": 84,
   "metadata": {
    "id": "HQMXr8zA6VSb"
   },
   "outputs": [],
   "source": [
    "c['Пробег'] = c['Пробег'].apply(lambda x: x[:-3])"
   ]
  },
  {
   "cell_type": "code",
   "execution_count": 85,
   "metadata": {
    "id": "NYX3tRK16VSb"
   },
   "outputs": [],
   "source": [
    "c['Пробег'] = c['Пробег'].apply(lambda x: int(re.sub(r'(\\d)\\s+(\\d)', r'\\1\\2', x)))"
   ]
  },
  {
   "cell_type": "code",
   "execution_count": 86,
   "metadata": {
    "id": "1_6dNFrh6VSb"
   },
   "outputs": [],
   "source": [
    "c['engineDisplacement'] = c['engineDisplacement'].apply(lambda x: float(x[:-5]) if 'л.с.' in x else float(x[:-2])) "
   ]
  },
  {
   "cell_type": "code",
   "execution_count": 87,
   "metadata": {
    "id": "1HpMXlZH6VSc"
   },
   "outputs": [],
   "source": [
    "c['enginePower'] = c['enginePower'].apply(lambda x: float(x[:-4]) if 'кВт' in x else float(x[:-5])) "
   ]
  },
  {
   "cell_type": "code",
   "execution_count": 88,
   "metadata": {
    "id": "phyG-F3E6VSc"
   },
   "outputs": [],
   "source": [
    "c['model_name'] = c['url'].apply(lambda x: x.split('/')[7])"
   ]
  },
  {
   "cell_type": "code",
   "execution_count": 89,
   "metadata": {
    "id": "nAFRboUK6VSc"
   },
   "outputs": [],
   "source": [
    "c = c.rename({\"Кузов\":\"bodyType\",\"Марка\":\"brand\", \"Цвет\": \"color\", \"Пробег\": \"mileage\", \"год выпуска\": \"producationDate\", \"Model\": \"brand\"}, axis='columns')"
   ]
  },
  {
   "cell_type": "markdown",
   "metadata": {},
   "source": [
    "#### Теперь нужно создать датафрейм у которого порядок и название столбцов будет таким же как в test.csv"
   ]
  },
  {
   "cell_type": "code",
   "execution_count": 90,
   "metadata": {
    "id": "c3IcKABH6VSc"
   },
   "outputs": [],
   "source": [
    "df = pd.DataFrame(c['bodyType'])"
   ]
  },
  {
   "cell_type": "code",
   "execution_count": 91,
   "metadata": {
    "id": "GeIgxJ8x6VSc"
   },
   "outputs": [],
   "source": [
    "df['brand'] = c['brand']"
   ]
  },
  {
   "cell_type": "code",
   "execution_count": 92,
   "metadata": {
    "id": "ykwWA1K06VSc"
   },
   "outputs": [],
   "source": [
    "df['color'] = c['color']"
   ]
  },
  {
   "cell_type": "code",
   "execution_count": 93,
   "metadata": {
    "id": "-MQAPV096VSc"
   },
   "outputs": [],
   "source": [
    "df['engineDisplacement'] = c['engineDisplacement']"
   ]
  },
  {
   "cell_type": "code",
   "execution_count": 94,
   "metadata": {
    "id": "GLRon07r6VSd"
   },
   "outputs": [],
   "source": [
    "df['enginePower'] = c['enginePower']"
   ]
  },
  {
   "cell_type": "code",
   "execution_count": 95,
   "metadata": {
    "id": "zP3Q1moF6VSd"
   },
   "outputs": [],
   "source": [
    "df['fuelType'] = c['fuelType']"
   ]
  },
  {
   "cell_type": "code",
   "execution_count": 96,
   "metadata": {
    "id": "PRKjFlu-6VSd"
   },
   "outputs": [],
   "source": [
    "df['mileage'] = c['mileage']"
   ]
  },
  {
   "cell_type": "code",
   "execution_count": 97,
   "metadata": {
    "id": "25OreSCw6VSd"
   },
   "outputs": [],
   "source": [
    "df['model_name'] = c['model_name']"
   ]
  },
  {
   "cell_type": "code",
   "execution_count": 98,
   "metadata": {
    "id": "fdw4EWOU6VSd"
   },
   "outputs": [],
   "source": [
    "df['productionDate'] = c['producationDate']"
   ]
  },
  {
   "cell_type": "code",
   "execution_count": 99,
   "metadata": {
    "id": "wr4z9Vcf6VSe"
   },
   "outputs": [],
   "source": [
    "df['vehicleTransmission'] = c['Коробка']"
   ]
  },
  {
   "cell_type": "code",
   "execution_count": 100,
   "metadata": {
    "id": "sH_iopqw6VSe"
   },
   "outputs": [],
   "source": [
    "df['Владельцы'] = c['Владельцы']"
   ]
  },
  {
   "cell_type": "code",
   "execution_count": 101,
   "metadata": {
    "id": "ns8Plpj36VSe"
   },
   "outputs": [],
   "source": [
    "df['Владение'] = c['Владение']"
   ]
  },
  {
   "cell_type": "code",
   "execution_count": 102,
   "metadata": {
    "id": "sxi6nr5B6VSe"
   },
   "outputs": [],
   "source": [
    "df['ПТС'] = c['ПТС']"
   ]
  },
  {
   "cell_type": "code",
   "execution_count": 103,
   "metadata": {
    "id": "9ADNv0Is6VSe"
   },
   "outputs": [],
   "source": [
    "df['Привод'] = c['Привод']"
   ]
  },
  {
   "cell_type": "code",
   "execution_count": 104,
   "metadata": {
    "id": "VjzVxnsC6VSe"
   },
   "outputs": [],
   "source": [
    "df['Руль'] = c['Руль']"
   ]
  },
  {
   "cell_type": "code",
   "execution_count": 105,
   "metadata": {
    "id": "F4mlF77a6VSf"
   },
   "outputs": [],
   "source": [
    "df['Состояние'] = c['Состояние']"
   ]
  },
  {
   "cell_type": "code",
   "execution_count": 106,
   "metadata": {
    "id": "51PF5Jws6VSf"
   },
   "outputs": [],
   "source": [
    "df['Таможня'] = c['Таможня']"
   ]
  },
  {
   "cell_type": "code",
   "execution_count": 107,
   "metadata": {
    "id": "WkUylq9C6VSf"
   },
   "outputs": [],
   "source": [
    "df['Цена'] = c['Цена']"
   ]
  },
  {
   "cell_type": "code",
   "execution_count": 108,
   "metadata": {
    "id": "S-NFltwa6VSf"
   },
   "outputs": [],
   "source": [
    "df.to_csv('kaggle_cars.csv', index=False)"
   ]
  },
  {
   "cell_type": "code",
   "execution_count": 109,
   "metadata": {
    "id": "2d4nR3oY6VSf"
   },
   "outputs": [],
   "source": [
    "df = pd.read_csv('kaggle_cars.csv')"
   ]
  },
  {
   "cell_type": "code",
   "execution_count": 126,
   "metadata": {
    "id": "wSE7teax6VSf"
   },
   "outputs": [],
   "source": [
    "test = pd.read_csv('test.csv')"
   ]
  },
  {
   "cell_type": "markdown",
   "metadata": {},
   "source": [
    "Импортируем test.csv и удаляем не нужные столбцы (некоторых столбцов нет в запарсенных данных)"
   ]
  },
  {
   "cell_type": "code",
   "execution_count": 127,
   "metadata": {
    "id": "aA6UzPFZ6VSf"
   },
   "outputs": [],
   "source": [
    "test = test.drop('car_url', axis = 1)\n",
    "test = test.drop('complectation_dict', axis = 1)\n",
    "test = test.drop('description', axis = 1)\n",
    "test = test.drop('equipment_dict', axis = 1)\n",
    "test = test.drop('vehicleConfiguration', axis = 1)\n",
    "test = test.drop('vendor', axis = 1)\n",
    "test = test.drop('image', axis = 1)\n",
    "test = test.drop('model_info', axis = 1)\n",
    "test = test.drop('name', axis = 1)\n",
    "test = test.drop('parsing_unixtime', axis = 1)\n",
    "test = test.drop('super_gen', axis = 1)\n",
    "test = test.drop('numberOfDoors', axis = 1)\n",
    "test = test.drop('priceCurrency', axis = 1)\n",
    "test = test.drop('modelDate', axis = 1)"
   ]
  },
  {
   "cell_type": "markdown",
   "metadata": {},
   "source": [
    "С тестом делаем такую же предобработку как ранее"
   ]
  },
  {
   "cell_type": "code",
   "execution_count": 128,
   "metadata": {
    "id": "wzFvWyBw6VSg"
   },
   "outputs": [],
   "source": [
    "test['engineDisplacement'] = test['engineDisplacement'].apply(lambda x: x[:-4] if 'LTR' in x else x) "
   ]
  },
  {
   "cell_type": "code",
   "execution_count": 129,
   "metadata": {
    "id": "1WYkw0Y_6VSg"
   },
   "outputs": [],
   "source": [
    "test['engineDisplacement'] = test['engineDisplacement'].apply(lambda x: float(x) if x != '' in x else 0) "
   ]
  },
  {
   "cell_type": "code",
   "execution_count": 134,
   "metadata": {},
   "outputs": [
    {
     "data": {
      "text/plain": [
       "bodyType               55\n",
       "brand                  55\n",
       "color                  55\n",
       "engineDisplacement     55\n",
       "enginePower            55\n",
       "fuelType               55\n",
       "mileage                55\n",
       "model_name             55\n",
       "productionDate         55\n",
       "sell_id                55\n",
       "vehicleTransmission    55\n",
       "Владельцы              55\n",
       "Владение               33\n",
       "ПТС                    55\n",
       "Привод                 55\n",
       "Руль                   55\n",
       "Состояние              55\n",
       "Таможня                55\n",
       "dtype: int64"
      ]
     },
     "execution_count": 134,
     "metadata": {},
     "output_type": "execute_result"
    }
   ],
   "source": [
    "test[test['engineDisplacement']==0].count() # Видим что есть объем у которого значение ноль"
   ]
  },
  {
   "cell_type": "code",
   "execution_count": 120,
   "metadata": {
    "colab": {
     "base_uri": "https://localhost:8080/"
    },
    "id": "8DH4F-XOJF_e",
    "outputId": "d53e8794-854b-4a9a-c5b7-a67e2b0de7a2"
   },
   "outputs": [
    {
     "data": {
      "text/plain": [
       "2.402254511906894"
      ]
     },
     "execution_count": 120,
     "metadata": {},
     "output_type": "execute_result"
    }
   ],
   "source": [
    "test['engineDisplacement'].mean()"
   ]
  },
  {
   "cell_type": "markdown",
   "metadata": {},
   "source": [
    "Заменим пустые значение в объеме на среднее значение "
   ]
  },
  {
   "cell_type": "code",
   "execution_count": 121,
   "metadata": {
    "id": "dbpxkxTQ6VSg"
   },
   "outputs": [],
   "source": [
    "test['engineDisplacement'] = test['engineDisplacement'].apply(lambda x: float(2.4) if x == 0 else x) "
   ]
  },
  {
   "cell_type": "code",
   "execution_count": 135,
   "metadata": {
    "id": "nGHXXTzX6VSg"
   },
   "outputs": [],
   "source": [
    "test['enginePower'] = test['enginePower'].apply(lambda x: float(x[:-4]) if 'N12' in x else (x)) "
   ]
  },
  {
   "cell_type": "code",
   "execution_count": 136,
   "metadata": {
    "id": "JHdTjKoU6VSg"
   },
   "outputs": [],
   "source": [
    "test = test.drop('sell_id', axis = 1)"
   ]
  },
  {
   "cell_type": "code",
   "execution_count": 137,
   "metadata": {
    "id": "XX2cCXq46VSh"
   },
   "outputs": [],
   "source": [
    "test.to_csv('test1.csv')"
   ]
  },
  {
   "cell_type": "code",
   "execution_count": 138,
   "metadata": {
    "id": "DfMZWy4l6VSh"
   },
   "outputs": [],
   "source": [
    "test['label'] = 1"
   ]
  },
  {
   "cell_type": "code",
   "execution_count": 139,
   "metadata": {
    "id": "CSGCq5RL6VSh"
   },
   "outputs": [],
   "source": [
    "df = df.iloc[:, :-1]"
   ]
  },
  {
   "cell_type": "code",
   "execution_count": 140,
   "metadata": {
    "id": "o9N8gsXn6VSh"
   },
   "outputs": [],
   "source": [
    "df['label'] = 0"
   ]
  },
  {
   "cell_type": "markdown",
   "metadata": {},
   "source": [
    "Объеденим наши данные и тест"
   ]
  },
  {
   "cell_type": "code",
   "execution_count": 141,
   "metadata": {
    "id": "m89MEJGt6VSh"
   },
   "outputs": [],
   "source": [
    "combined = pd.concat([df, test], ignore_index=True)"
   ]
  },
  {
   "cell_type": "code",
   "execution_count": 142,
   "metadata": {
    "colab": {
     "base_uri": "https://localhost:8080/",
     "height": 383
    },
    "id": "0TPs7owM6VSh",
    "outputId": "d68f9125-1231-42f6-eb90-24a9362b6dc1"
   },
   "outputs": [
    {
     "data": {
      "text/html": [
       "<div>\n",
       "<style scoped>\n",
       "    .dataframe tbody tr th:only-of-type {\n",
       "        vertical-align: middle;\n",
       "    }\n",
       "\n",
       "    .dataframe tbody tr th {\n",
       "        vertical-align: top;\n",
       "    }\n",
       "\n",
       "    .dataframe thead th {\n",
       "        text-align: right;\n",
       "    }\n",
       "</style>\n",
       "<table border=\"1\" class=\"dataframe\">\n",
       "  <thead>\n",
       "    <tr style=\"text-align: right;\">\n",
       "      <th></th>\n",
       "      <th>bodyType</th>\n",
       "      <th>brand</th>\n",
       "      <th>color</th>\n",
       "      <th>engineDisplacement</th>\n",
       "      <th>enginePower</th>\n",
       "      <th>fuelType</th>\n",
       "      <th>mileage</th>\n",
       "      <th>model_name</th>\n",
       "      <th>productionDate</th>\n",
       "      <th>vehicleTransmission</th>\n",
       "      <th>Владельцы</th>\n",
       "      <th>Владение</th>\n",
       "      <th>ПТС</th>\n",
       "      <th>Привод</th>\n",
       "      <th>Руль</th>\n",
       "      <th>Состояние</th>\n",
       "      <th>Таможня</th>\n",
       "      <th>label</th>\n",
       "    </tr>\n",
       "  </thead>\n",
       "  <tbody>\n",
       "    <tr>\n",
       "      <th>0</th>\n",
       "      <td>седан</td>\n",
       "      <td>Honda</td>\n",
       "      <td>белый</td>\n",
       "      <td>2.4</td>\n",
       "      <td>180.0</td>\n",
       "      <td>Бензин</td>\n",
       "      <td>100503</td>\n",
       "      <td>accord</td>\n",
       "      <td>2013</td>\n",
       "      <td>автоматическая</td>\n",
       "      <td>1 владелец</td>\n",
       "      <td>6 лет и 9 месяцев</td>\n",
       "      <td>Оригинал</td>\n",
       "      <td>передний</td>\n",
       "      <td>Левый</td>\n",
       "      <td>Не требует ремонта</td>\n",
       "      <td>Растаможен</td>\n",
       "      <td>0</td>\n",
       "    </tr>\n",
       "    <tr>\n",
       "      <th>1</th>\n",
       "      <td>хэтчбек 5 дв.</td>\n",
       "      <td>Honda</td>\n",
       "      <td>белый</td>\n",
       "      <td>1.5</td>\n",
       "      <td>110.0</td>\n",
       "      <td>Гибрид</td>\n",
       "      <td>41000</td>\n",
       "      <td>fit</td>\n",
       "      <td>2015</td>\n",
       "      <td>роботизированная</td>\n",
       "      <td>1 владелец</td>\n",
       "      <td>NaN</td>\n",
       "      <td>Оригинал</td>\n",
       "      <td>передний</td>\n",
       "      <td>Правый</td>\n",
       "      <td>Не требует ремонта</td>\n",
       "      <td>Растаможен</td>\n",
       "      <td>0</td>\n",
       "    </tr>\n",
       "    <tr>\n",
       "      <th>2</th>\n",
       "      <td>седан</td>\n",
       "      <td>Honda</td>\n",
       "      <td>чёрный</td>\n",
       "      <td>2.4</td>\n",
       "      <td>190.0</td>\n",
       "      <td>Бензин</td>\n",
       "      <td>220000</td>\n",
       "      <td>accord</td>\n",
       "      <td>2007</td>\n",
       "      <td>механическая</td>\n",
       "      <td>1 владелец</td>\n",
       "      <td>NaN</td>\n",
       "      <td>Оригинал</td>\n",
       "      <td>передний</td>\n",
       "      <td>Левый</td>\n",
       "      <td>Не требует ремонта</td>\n",
       "      <td>Растаможен</td>\n",
       "      <td>0</td>\n",
       "    </tr>\n",
       "    <tr>\n",
       "      <th>3</th>\n",
       "      <td>компактвэн</td>\n",
       "      <td>Honda</td>\n",
       "      <td>чёрный</td>\n",
       "      <td>2.0</td>\n",
       "      <td>150.0</td>\n",
       "      <td>Бензин</td>\n",
       "      <td>264234</td>\n",
       "      <td>fr_v</td>\n",
       "      <td>2005</td>\n",
       "      <td>механическая</td>\n",
       "      <td>3 или более</td>\n",
       "      <td>NaN</td>\n",
       "      <td>Оригинал</td>\n",
       "      <td>передний</td>\n",
       "      <td>Левый</td>\n",
       "      <td>Не требует ремонта</td>\n",
       "      <td>Растаможен</td>\n",
       "      <td>0</td>\n",
       "    </tr>\n",
       "    <tr>\n",
       "      <th>4</th>\n",
       "      <td>внедорожник 5 дв.</td>\n",
       "      <td>Honda</td>\n",
       "      <td>серый</td>\n",
       "      <td>2.0</td>\n",
       "      <td>150.0</td>\n",
       "      <td>Бензин</td>\n",
       "      <td>193554</td>\n",
       "      <td>cr_v</td>\n",
       "      <td>2008</td>\n",
       "      <td>механическая</td>\n",
       "      <td>2 владельца</td>\n",
       "      <td>NaN</td>\n",
       "      <td>Оригинал</td>\n",
       "      <td>полный</td>\n",
       "      <td>Левый</td>\n",
       "      <td>Не требует ремонта</td>\n",
       "      <td>Растаможен</td>\n",
       "      <td>0</td>\n",
       "    </tr>\n",
       "  </tbody>\n",
       "</table>\n",
       "</div>"
      ],
      "text/plain": [
       "            bodyType  brand   color  engineDisplacement  enginePower fuelType  \\\n",
       "0              седан  Honda   белый                 2.4        180.0   Бензин   \n",
       "1      хэтчбек 5 дв.  Honda   белый                 1.5        110.0   Гибрид   \n",
       "2              седан  Honda  чёрный                 2.4        190.0   Бензин   \n",
       "3         компактвэн  Honda  чёрный                 2.0        150.0   Бензин   \n",
       "4  внедорожник 5 дв.  Honda   серый                 2.0        150.0   Бензин   \n",
       "\n",
       "   mileage model_name  productionDate vehicleTransmission    Владельцы  \\\n",
       "0   100503     accord            2013      автоматическая   1 владелец   \n",
       "1    41000        fit            2015    роботизированная   1 владелец   \n",
       "2   220000     accord            2007        механическая   1 владелец   \n",
       "3   264234       fr_v            2005        механическая  3 или более   \n",
       "4   193554       cr_v            2008        механическая  2 владельца   \n",
       "\n",
       "            Владение       ПТС    Привод    Руль           Состояние  \\\n",
       "0  6 лет и 9 месяцев  Оригинал  передний   Левый  Не требует ремонта   \n",
       "1                NaN  Оригинал  передний  Правый  Не требует ремонта   \n",
       "2                NaN  Оригинал  передний   Левый  Не требует ремонта   \n",
       "3                NaN  Оригинал  передний   Левый  Не требует ремонта   \n",
       "4                NaN  Оригинал    полный   Левый  Не требует ремонта   \n",
       "\n",
       "      Таможня  label  \n",
       "0  Растаможен      0  \n",
       "1  Растаможен      0  \n",
       "2  Растаможен      0  \n",
       "3  Растаможен      0  \n",
       "4  Растаможен      0  "
      ]
     },
     "execution_count": 142,
     "metadata": {},
     "output_type": "execute_result"
    }
   ],
   "source": [
    "combined.head()"
   ]
  },
  {
   "cell_type": "code",
   "execution_count": 144,
   "metadata": {
    "id": "ED8fyV1n6VSi"
   },
   "outputs": [],
   "source": [
    "from sklearn.preprocessing import LabelEncoder # Импортируем LabelEncoder для работы с категориальными данными"
   ]
  },
  {
   "cell_type": "code",
   "execution_count": 146,
   "metadata": {
    "id": "uJTX8Jty6VSi"
   },
   "outputs": [],
   "source": [
    "combined['ПТС'] = combined['ПТС'].fillna('Оригинал') # Заполним пустые значения в ПТС самым распростронённым"
   ]
  },
  {
   "cell_type": "markdown",
   "metadata": {},
   "source": [
    "#### Преобразуем категориальные данные с помощью LabelEncoder"
   ]
  },
  {
   "cell_type": "code",
   "execution_count": 147,
   "metadata": {
    "id": "75XgJtOX6VSi"
   },
   "outputs": [],
   "source": [
    "combined['Привод'] = pd.Series(LabelEncoder().fit_transform(combined['Привод']))"
   ]
  },
  {
   "cell_type": "code",
   "execution_count": 148,
   "metadata": {
    "id": "4HojHZPV6VSi"
   },
   "outputs": [],
   "source": [
    "combined['ПТС'] = pd.Series(LabelEncoder().fit_transform(combined['ПТС']))"
   ]
  },
  {
   "cell_type": "code",
   "execution_count": 149,
   "metadata": {
    "id": "gJqHMz8g6VSi"
   },
   "outputs": [],
   "source": [
    "combined['Состояние'] = pd.Series(LabelEncoder().fit_transform(combined['Состояние']))"
   ]
  },
  {
   "cell_type": "code",
   "execution_count": 150,
   "metadata": {
    "id": "3zl8JrRA6VSi"
   },
   "outputs": [],
   "source": [
    "combined['Руль'] = pd.Series(LabelEncoder().fit_transform(combined['Руль']))"
   ]
  },
  {
   "cell_type": "code",
   "execution_count": 151,
   "metadata": {
    "id": "a5cj0vEo6VSj"
   },
   "outputs": [],
   "source": [
    "combined['Таможня'] = pd.Series(LabelEncoder().fit_transform(combined['Таможня']))"
   ]
  },
  {
   "cell_type": "code",
   "execution_count": 152,
   "metadata": {
    "id": "qMQychZiErgj"
   },
   "outputs": [],
   "source": [
    "import re"
   ]
  },
  {
   "cell_type": "code",
   "execution_count": 153,
   "metadata": {
    "id": "IaRgDsbd6VSj"
   },
   "outputs": [],
   "source": [
    "combined['bodyType'] = combined['bodyType'].apply(lambda x: (re.match(r'\\w+', x)).group())"
   ]
  },
  {
   "cell_type": "markdown",
   "metadata": {},
   "source": [
    "#### В наших данных первая буква в fuelType записаны с большой буквы. Нужны сделать так чтобы все были одинаковые"
   ]
  },
  {
   "cell_type": "code",
   "execution_count": 154,
   "metadata": {
    "id": "GOx-Vx2K6VSj"
   },
   "outputs": [],
   "source": [
    "combined['fuelType'] = combined['fuelType'].apply(lambda x: 'бензин' if x == 'Бензин' else x)\n",
    "combined['fuelType'] = combined['fuelType'].apply(lambda x: 'дизель' if x == 'Дизель' else x)\n",
    "combined['fuelType'] = combined['fuelType'].apply(lambda x: 'гибрид' if x == 'Гибрид' else x)"
   ]
  },
  {
   "cell_type": "code",
   "execution_count": 155,
   "metadata": {
    "id": "vNnZNdET6VSj"
   },
   "outputs": [],
   "source": [
    "combined['fuelType'] = combined['fuelType'].apply(lambda x: 'газ' if x == 'Бензин, газобаллонное оборудование' else x)"
   ]
  },
  {
   "cell_type": "code",
   "execution_count": 156,
   "metadata": {
    "id": "NO8wdB2V6VSj"
   },
   "outputs": [],
   "source": [
    "combined['fuelType'] = combined['fuelType'].apply(lambda x: 'газ' if x == 'Газ, газобаллонное оборудование' else x)"
   ]
  },
  {
   "cell_type": "code",
   "execution_count": 157,
   "metadata": {
    "id": "SYLsNk6i6VSj"
   },
   "outputs": [],
   "source": [
    "combined['fuelType'] = combined['fuelType'].apply(lambda x: 'газ' if x == 'Гибрид, газобаллонное оборудование' else x)"
   ]
  },
  {
   "cell_type": "code",
   "execution_count": 158,
   "metadata": {
    "id": "HRwRlbRd6VSk"
   },
   "outputs": [],
   "source": [
    "combined['fuelType'] = combined['fuelType'].apply(lambda x: 'электро' if x == 'Электро' else x)"
   ]
  },
  {
   "cell_type": "code",
   "execution_count": 159,
   "metadata": {
    "id": "e2h_aL1F6VSk"
   },
   "outputs": [],
   "source": [
    "combined['fuelType'] = combined['fuelType'].apply(lambda x: 'газ' if x == 'Газ' else x)"
   ]
  },
  {
   "cell_type": "code",
   "execution_count": 160,
   "metadata": {
    "id": "4qtL6Cqv6VSk"
   },
   "outputs": [],
   "source": [
    "combined['brand'] = combined['brand'].apply(lambda x: x.lower())"
   ]
  },
  {
   "cell_type": "code",
   "execution_count": 161,
   "metadata": {
    "id": "f6XMnYSU6VSk"
   },
   "outputs": [],
   "source": [
    "combined['brand'] = combined['brand'].apply(lambda x: 'mercedes' if x == 'mercedes-benz' else x)"
   ]
  },
  {
   "cell_type": "code",
   "execution_count": 162,
   "metadata": {
    "colab": {
     "base_uri": "https://localhost:8080/"
    },
    "id": "cCifz81y6VSk",
    "outputId": "0a9d4842-89d4-4683-c7c7-4003d139abfd"
   },
   "outputs": [
    {
     "data": {
      "text/plain": [
       "bmw           7373\n",
       "volkswagen    7211\n",
       "nissan        7188\n",
       "toyota        6613\n",
       "mercedes      6334\n",
       "audi          6328\n",
       "mitsubishi    5766\n",
       "skoda         5584\n",
       "honda         4589\n",
       "volvo         4085\n",
       "lexus         3679\n",
       "infiniti      2562\n",
       "Name: brand, dtype: int64"
      ]
     },
     "execution_count": 162,
     "metadata": {},
     "output_type": "execute_result"
    }
   ],
   "source": [
    "combined['brand'].value_counts()"
   ]
  },
  {
   "cell_type": "code",
   "execution_count": 163,
   "metadata": {
    "colab": {
     "base_uri": "https://localhost:8080/"
    },
    "id": "I4JZcmGP6VSl",
    "outputId": "724caa1a-cbd0-44f1-cc56-2c162bf76478"
   },
   "outputs": [
    {
     "data": {
      "text/plain": [
       "OCTAVIA        1418\n",
       "octavia        1142\n",
       "5ER            1026\n",
       "rx             1014\n",
       "LANCER          855\n",
       "               ... \n",
       "CITY              1\n",
       "carina_ed         1\n",
       "n_box_slash       1\n",
       "200SX             1\n",
       "LM                1\n",
       "Name: model_name, Length: 1073, dtype: int64"
      ]
     },
     "execution_count": 163,
     "metadata": {},
     "output_type": "execute_result"
    }
   ],
   "source": [
    "combined['model_name'].value_counts()"
   ]
  },
  {
   "cell_type": "code",
   "execution_count": 164,
   "metadata": {
    "id": "-p5WP1Yf6VSl"
   },
   "outputs": [],
   "source": [
    "combined['model_name'] = combined['model_name'].apply(lambda x: x.lower())"
   ]
  },
  {
   "cell_type": "code",
   "execution_count": 165,
   "metadata": {
    "id": "qsDkf00Y6VSm"
   },
   "outputs": [],
   "source": [
    "combined['bodyType'] = pd.Series(LabelEncoder().fit_transform(combined['bodyType']))"
   ]
  },
  {
   "cell_type": "code",
   "execution_count": 166,
   "metadata": {
    "id": "H4hoPoLn6VSm"
   },
   "outputs": [],
   "source": [
    "combined['color'] = pd.Series(LabelEncoder().fit_transform(combined['color']))"
   ]
  },
  {
   "cell_type": "code",
   "execution_count": 167,
   "metadata": {
    "id": "hHogMNSHE5hh"
   },
   "outputs": [],
   "source": [
    "combined['brand'] = pd.Series(LabelEncoder().fit_transform(combined['brand']))"
   ]
  },
  {
   "cell_type": "code",
   "execution_count": 168,
   "metadata": {
    "id": "VW54h3XIE9OD"
   },
   "outputs": [],
   "source": [
    "combined['fuelType'] = pd.Series(LabelEncoder().fit_transform(combined['fuelType']))"
   ]
  },
  {
   "cell_type": "code",
   "execution_count": 169,
   "metadata": {
    "id": "LCVa9N2O6VSm"
   },
   "outputs": [],
   "source": [
    "combined['model_name'] = pd.Series(LabelEncoder().fit_transform(combined['model_name']))"
   ]
  },
  {
   "cell_type": "code",
   "execution_count": 170,
   "metadata": {
    "id": "vkeTXckzFE0V"
   },
   "outputs": [],
   "source": [
    "combined['vehicleTransmission'] = pd.Series(LabelEncoder().fit_transform(combined['vehicleTransmission']))"
   ]
  },
  {
   "cell_type": "code",
   "execution_count": 171,
   "metadata": {
    "id": "WpKqTSkaFc3V"
   },
   "outputs": [],
   "source": [
    "import numpy as np"
   ]
  },
  {
   "cell_type": "markdown",
   "metadata": {},
   "source": [
    "#### Заметили что если преобразовать некоторые столбцы в log, то МАРЕ уменьшается"
   ]
  },
  {
   "cell_type": "code",
   "execution_count": 172,
   "metadata": {
    "id": "T4QA9FJGFYHV"
   },
   "outputs": [],
   "source": [
    "combined['mileage'] = np.log(combined['mileage'])"
   ]
  },
  {
   "cell_type": "code",
   "execution_count": 173,
   "metadata": {
    "id": "nT8A5qN3Hkt3"
   },
   "outputs": [
    {
     "name": "stderr",
     "output_type": "stream",
     "text": [
      "C:\\anaconda\\lib\\site-packages\\pandas\\core\\series.py:679: RuntimeWarning: divide by zero encountered in log\n",
      "  result = getattr(ufunc, method)(*inputs, **kwargs)\n"
     ]
    }
   ],
   "source": [
    "combined['engineDisplacement'] = np.log(combined['engineDisplacement'])"
   ]
  },
  {
   "cell_type": "code",
   "execution_count": 174,
   "metadata": {
    "id": "yFONc8TvaD5r"
   },
   "outputs": [],
   "source": [
    "combined['enginePower'] = np.log(combined['enginePower'])"
   ]
  },
  {
   "cell_type": "code",
   "execution_count": 175,
   "metadata": {
    "id": "Xok-dksF6VSn"
   },
   "outputs": [],
   "source": [
    "combined = combined.drop('Владельцы', axis = 1)\n",
    "combined = combined.drop('Владение', axis = 1)"
   ]
  },
  {
   "cell_type": "code",
   "execution_count": 176,
   "metadata": {
    "colab": {
     "base_uri": "https://localhost:8080/"
    },
    "id": "alJ7h64N6VSn",
    "outputId": "ae19db94-157a-4a54-94c1-427ea5cc8041"
   },
   "outputs": [
    {
     "name": "stdout",
     "output_type": "stream",
     "text": [
      "<class 'pandas.core.frame.DataFrame'>\n",
      "RangeIndex: 67312 entries, 0 to 67311\n",
      "Data columns (total 16 columns):\n",
      " #   Column               Non-Null Count  Dtype  \n",
      "---  ------               --------------  -----  \n",
      " 0   bodyType             67312 non-null  int32  \n",
      " 1   brand                67312 non-null  int32  \n",
      " 2   color                67312 non-null  int32  \n",
      " 3   engineDisplacement   67312 non-null  float64\n",
      " 4   enginePower          67312 non-null  float64\n",
      " 5   fuelType             67312 non-null  int32  \n",
      " 6   mileage              67312 non-null  float64\n",
      " 7   model_name           67312 non-null  int32  \n",
      " 8   productionDate       67312 non-null  int64  \n",
      " 9   vehicleTransmission  67312 non-null  int32  \n",
      " 10  ПТС                  67312 non-null  int32  \n",
      " 11  Привод               67312 non-null  int32  \n",
      " 12  Руль                 67312 non-null  int32  \n",
      " 13  Состояние            67312 non-null  int32  \n",
      " 14  Таможня              67312 non-null  int32  \n",
      " 15  label                67312 non-null  int64  \n",
      "dtypes: float64(3), int32(11), int64(2)\n",
      "memory usage: 5.4 MB\n"
     ]
    }
   ],
   "source": [
    "combined.info()"
   ]
  },
  {
   "cell_type": "code",
   "execution_count": 177,
   "metadata": {
    "id": "eXvfp-Ox6VSn"
   },
   "outputs": [],
   "source": [
    "df1 = pd.read_csv('kaggle_cars.csv')"
   ]
  },
  {
   "cell_type": "markdown",
   "metadata": {},
   "source": [
    "#### Разделим на train и test"
   ]
  },
  {
   "cell_type": "code",
   "execution_count": 178,
   "metadata": {
    "id": "9jtYUiSx6VSn"
   },
   "outputs": [],
   "source": [
    "Y_train = pd.DataFrame(df1['Цена'], columns=['Цена'])"
   ]
  },
  {
   "cell_type": "code",
   "execution_count": 179,
   "metadata": {
    "id": "OMXDHXfS6VSn"
   },
   "outputs": [],
   "source": [
    "Y_train['Цена'] = Y_train['Цена'].apply(lambda x: int((re.search(r'\\d+', str(x))).group()))"
   ]
  },
  {
   "cell_type": "code",
   "execution_count": 180,
   "metadata": {
    "id": "pYy_-oSLFoer"
   },
   "outputs": [],
   "source": [
    "Y_train['Цена'] = np.log(Y_train['Цена'])"
   ]
  },
  {
   "cell_type": "code",
   "execution_count": 181,
   "metadata": {
    "id": "-OaHXnfg6VSo"
   },
   "outputs": [],
   "source": [
    "X_test = combined[combined['label'] == 1].drop('label', axis = 1)\n",
    "X_train = combined[combined['label'] == 0].drop('label', axis = 1)"
   ]
  },
  {
   "cell_type": "markdown",
   "metadata": {},
   "source": [
    "#### На всяки случай запишем разделение на train и test"
   ]
  },
  {
   "cell_type": "code",
   "execution_count": 182,
   "metadata": {
    "id": "fcb0SDpq6VSo"
   },
   "outputs": [],
   "source": [
    "X_train.to_csv('x_train.csv', index=False)"
   ]
  },
  {
   "cell_type": "code",
   "execution_count": 183,
   "metadata": {
    "id": "bf8RdZhq6VSo"
   },
   "outputs": [],
   "source": [
    "X_test.to_csv('x_test.csv', index=False)"
   ]
  },
  {
   "cell_type": "code",
   "execution_count": 184,
   "metadata": {
    "id": "UxwimDwZ6VSp"
   },
   "outputs": [],
   "source": [
    "Y_train.to_csv('y_train.csv', index=False)"
   ]
  },
  {
   "cell_type": "code",
   "execution_count": 185,
   "metadata": {
    "id": "Hs7AQiEt6VSp"
   },
   "outputs": [],
   "source": [
    "X_train = pd.read_csv('x_train.csv')\n",
    "X_test = pd.read_csv('x_test.csv')\n",
    "Y_train = pd.read_csv('y_train.csv')"
   ]
  },
  {
   "cell_type": "markdown",
   "metadata": {},
   "source": [
    "#### Мы применяли разные алгоритмы с разными параметрами на валидационных данных. В итоге пришли к тому что RandomForestRegressor справляется лучше всех."
   ]
  },
  {
   "cell_type": "code",
   "execution_count": 187,
   "metadata": {},
   "outputs": [],
   "source": [
    "from sklearn.ensemble import RandomForestRegressor"
   ]
  },
  {
   "cell_type": "code",
   "execution_count": 188,
   "metadata": {
    "id": "0lFF1yjx6VSp"
   },
   "outputs": [],
   "source": [
    "model = RandomForestRegressor(n_estimators=1000, max_depth=17, random_state=42)"
   ]
  },
  {
   "cell_type": "code",
   "execution_count": 60,
   "metadata": {
    "colab": {
     "base_uri": "https://localhost:8080/"
    },
    "id": "5a-D5zgEF1O4",
    "outputId": "b02b1740-7f3f-4123-84c3-bed128d3a784"
   },
   "outputs": [
    {
     "name": "stderr",
     "output_type": "stream",
     "text": [
      "/usr/local/lib/python3.6/dist-packages/ipykernel_launcher.py:1: DataConversionWarning: A column-vector y was passed when a 1d array was expected. Please change the shape of y to (n_samples,), for example using ravel().\n",
      "  \"\"\"Entry point for launching an IPython kernel.\n"
     ]
    },
    {
     "data": {
      "text/plain": [
       "RandomForestRegressor(bootstrap=True, ccp_alpha=0.0, criterion='mse',\n",
       "                      max_depth=16, max_features='auto', max_leaf_nodes=None,\n",
       "                      max_samples=None, min_impurity_decrease=0.0,\n",
       "                      min_impurity_split=None, min_samples_leaf=1,\n",
       "                      min_samples_split=2, min_weight_fraction_leaf=0.0,\n",
       "                      n_estimators=1000, n_jobs=None, oob_score=False,\n",
       "                      random_state=42, verbose=0, warm_start=False)"
      ]
     },
     "execution_count": 60,
     "metadata": {
      "tags": []
     },
     "output_type": "execute_result"
    }
   ],
   "source": [
    "model.fit(X_train, Y_train)"
   ]
  },
  {
   "cell_type": "code",
   "execution_count": 61,
   "metadata": {
    "id": "i5t8zJx46VSp"
   },
   "outputs": [],
   "source": [
    "pred = model.predict(X_test)"
   ]
  },
  {
   "cell_type": "code",
   "execution_count": 62,
   "metadata": {
    "id": "UKebVm64Gz8v"
   },
   "outputs": [],
   "source": [
    "pred = np.exp(pred) # преобразуем в нормальный вид"
   ]
  },
  {
   "cell_type": "code",
   "execution_count": 63,
   "metadata": {
    "colab": {
     "base_uri": "https://localhost:8080/"
    },
    "id": "tvXSUZoLbwEG",
    "outputId": "3d5278f7-adeb-4ea7-93c0-97d78289b217"
   },
   "outputs": [
    {
     "data": {
      "text/plain": [
       "array([ 655539.24468944,  997580.97647365,  827609.824124  , ...,\n",
       "        247847.6397321 , 1282687.17333679, 1074431.04308822])"
      ]
     },
     "execution_count": 63,
     "metadata": {
      "tags": []
     },
     "output_type": "execute_result"
    }
   ],
   "source": [
    "pred"
   ]
  },
  {
   "cell_type": "markdown",
   "metadata": {},
   "source": [
    "#### Submission"
   ]
  },
  {
   "cell_type": "code",
   "execution_count": 135,
   "metadata": {
    "id": "Yu8Kr2mq6VSp"
   },
   "outputs": [],
   "source": [
    "sample_submission = pd.read_csv('sample_submission.csv')\n",
    "sample_submission['price'] = pred\n",
    "sample_submission['price'] = sample_submission['price'].fillna(sample_submission['price'].mean())\n",
    "sample_submission.to_csv(f'submission_14.csv', index=False)"
   ]
  }
 ],
 "metadata": {
  "colab": {
   "collapsed_sections": [],
   "name": "cars.ipynb",
   "provenance": []
  },
  "kernelspec": {
   "display_name": "Python 3",
   "language": "python",
   "name": "python3"
  },
  "language_info": {
   "codemirror_mode": {
    "name": "ipython",
    "version": 3
   },
   "file_extension": ".py",
   "mimetype": "text/x-python",
   "name": "python",
   "nbconvert_exporter": "python",
   "pygments_lexer": "ipython3",
   "version": "3.8.3"
  }
 },
 "nbformat": 4,
 "nbformat_minor": 1
}
